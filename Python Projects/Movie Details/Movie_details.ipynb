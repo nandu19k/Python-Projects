{
  "nbformat": 4,
  "nbformat_minor": 0,
  "metadata": {
    "colab": {
      "name": "Movie_details.ipynb",
      "provenance": []
    },
    "kernelspec": {
      "name": "python3",
      "display_name": "Python 3"
    }
  },
  "cells": [
    {
      "cell_type": "code",
      "metadata": {
        "colab": {
          "base_uri": "https://localhost:8080/"
        },
        "id": "OfG55FSctejp",
        "outputId": "17eb9f03-b869-4a79-90b8-bd147efc11f0"
      },
      "source": [
        "pip install IMDbPY"
      ],
      "execution_count": 1,
      "outputs": [
        {
          "output_type": "stream",
          "text": [
            "Requirement already satisfied: IMDbPY in /usr/local/lib/python3.6/dist-packages (2020.9.25)\n",
            "Requirement already satisfied: lxml in /usr/local/lib/python3.6/dist-packages (from IMDbPY) (4.2.6)\n",
            "Requirement already satisfied: SQLAlchemy in /usr/local/lib/python3.6/dist-packages (from IMDbPY) (1.3.20)\n"
          ],
          "name": "stdout"
        }
      ]
    },
    {
      "cell_type": "code",
      "metadata": {
        "id": "OE7R7E5lt0WD"
      },
      "source": [
        "import imdb"
      ],
      "execution_count": 2,
      "outputs": []
    },
    {
      "cell_type": "code",
      "metadata": {
        "colab": {
          "base_uri": "https://localhost:8080/"
        },
        "id": "miyu7tS1t20z",
        "outputId": "1ef2fa8c-1f84-4f59-ab19-5e51946b2319"
      },
      "source": [
        "#top 10 movies\r\n",
        "\r\n",
        "ia = imdb.IMDb()\r\n",
        "search = ia.get_top250_movies()\r\n",
        "for i in range(10):\r\n",
        "  print(search[i])"
      ],
      "execution_count": 3,
      "outputs": [
        {
          "output_type": "stream",
          "text": [
            "The Shawshank Redemption\n",
            "The Godfather\n",
            "The Godfather: Part II\n",
            "The Dark Knight\n",
            "12 Angry Men\n",
            "Schindler's List\n",
            "The Lord of the Rings: The Return of the King\n",
            "Pulp Fiction\n",
            "The Good, the Bad and the Ugly\n",
            "The Lord of the Rings: The Fellowship of the Ring\n"
          ],
          "name": "stdout"
        }
      ]
    },
    {
      "cell_type": "code",
      "metadata": {
        "colab": {
          "base_uri": "https://localhost:8080/"
        },
        "id": "4f8H97sivKz0",
        "outputId": "893e6408-294c-4f30-d1fb-aa76d9e1e304"
      },
      "source": [
        "#search movie\r\n",
        "\r\n",
        "ia.search_movie(\"Simha\")"
      ],
      "execution_count": 4,
      "outputs": [
        {
          "output_type": "execute_result",
          "data": {
            "text/plain": [
              "[<Movie id:1582604[http] title:_Simha (2010)_>,\n",
              " <Movie id:0364007[http] title:_Simha (1975) (TV)_>,\n",
              " <Movie id:2265396[http] title:_Simha (2014)_>,\n",
              " <Movie id:1664892[http] title:_Happy, Happy (2010)_>,\n",
              " <Movie id:0375066[http] title:_Simhadri (2003)_>,\n",
              " <Movie id:4966270[http] title:_Simhadriya Simha (2002)_>,\n",
              " <Movie id:1365457[http] title:_Ezhumalai (2002)_>,\n",
              " <Movie id:0191456[http] title:_Simhasan (1979)_>,\n",
              " <Movie id:7756494[http] title:_Jai Simha (2018)_>,\n",
              " <Movie id:0102513[http] title:_Narasimha (1991)_>,\n",
              " <Movie id:7283064[http] title:_Sye Raa Narasimha Reddy (2019)_>,\n",
              " <Movie id:1575679[http] title:_Simha Raasi (2001)_>,\n",
              " <Movie id:2722792[http] title:_Simha Swapnam (1989)_>,\n",
              " <Movie id:0371774[http] title:_Keralida Simha (1981)_>,\n",
              " <Movie id:0246007[http] title:_Kodama Simham (1990)_>,\n",
              " <Movie id:10127868[http] title:_Narasimha (2001)_>,\n",
              " <Movie id:0273870[http] title:_Narasimham (2000)_>,\n",
              " <Movie id:7976508[http] title:_Rajasimha (2018)_>,\n",
              " <Movie id:0310102[http] title:_Sahasa Simha (1982)_>,\n",
              " <Movie id:0278519[http] title:_Jayasimha (1955)_>]"
            ]
          },
          "metadata": {
            "tags": []
          },
          "execution_count": 4
        }
      ]
    },
    {
      "cell_type": "code",
      "metadata": {
        "id": "WdZ_0eh_vWQj"
      },
      "source": [
        "def detail(movie_name):\r\n",
        "  moviesDB = imdb.IMDb()\r\n",
        "  movies = moviesDB.search_movie(movie_name)\r\n",
        "\r\n",
        "  if movies:\r\n",
        "    id = movies[0].getID()\r\n",
        "    movie = moviesDB.get_movie(id)\r\n",
        "\r\n",
        "    print(\"Movie Details ...........\")\r\n",
        "\r\n",
        "    print(f\"{movie['title']} - {movie['year']}\")\r\n",
        "    print(f\"rating : {movie['rating']}\")\r\n",
        "\r\n",
        "    directors = movie['directors']\r\n",
        "    casting = movie['cast']\r\n",
        "\r\n",
        "    director = ''.join(map(str , directors))\r\n",
        "    print(f\"directors : {directors}\")\r\n",
        "    actors = \", \".join(map(str , casting[0:5]))\r\n",
        "    print(f\"actors : {actors}\")\r\n"
      ],
      "execution_count": 7,
      "outputs": []
    },
    {
      "cell_type": "code",
      "metadata": {
        "colab": {
          "base_uri": "https://localhost:8080/"
        },
        "id": "3OqoHwbAwlEq",
        "outputId": "7be1dc89-75ed-45d3-a6f7-e2260a7fe71c"
      },
      "source": [
        "movie_name = input(\"Enter the movie name.....\")\r\n",
        "detail(movie_name)"
      ],
      "execution_count": 10,
      "outputs": [
        {
          "output_type": "stream",
          "text": [
            "Enter the movie name.....eega\n",
            "Movie Details ...........\n",
            "The Fly - 2012\n",
            "rating : 7.7\n",
            "directors : [<Person id:1442514[http] name:_S.S. Rajamouli_>, <Person id:2375084[http] name:_J.V.V. Sathyanarayana_>]\n",
            "actors : Sudeep, Nani, Samantha Ruth Prabhu, Hamsa Nandini, Crazy Mohan\n"
          ],
          "name": "stdout"
        }
      ]
    }
  ]
}